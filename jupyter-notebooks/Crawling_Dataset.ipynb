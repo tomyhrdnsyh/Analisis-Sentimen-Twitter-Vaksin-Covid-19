{
  "nbformat": 4,
  "nbformat_minor": 0,
  "metadata": {
    "colab": {
      "name": "Crawling Dataset.ipynb",
      "provenance": [],
      "collapsed_sections": [],
      "toc_visible": true,
      "authorship_tag": "ABX9TyMPJkjRFB8GWWQsg6BP6OBx",
      "include_colab_link": true
    },
    "kernelspec": {
      "name": "python3",
      "display_name": "Python 3"
    },
    "language_info": {
      "name": "python"
    }
  },
  "cells": [
    {
      "cell_type": "markdown",
      "metadata": {
        "id": "view-in-github",
        "colab_type": "text"
      },
      "source": [
        "<a href=\"https://colab.research.google.com/github/tomyhrdnsyh/Analisis-Sentimen-Twitter-Vaksin-Covid-19/blob/main/Crawling_Dataset.ipynb\" target=\"_parent\"><img src=\"https://colab.research.google.com/assets/colab-badge.svg\" alt=\"Open In Colab\"/></a>"
      ]
    },
    {
      "cell_type": "markdown",
      "source": [
        "# Library yang dibutuhkan"
      ],
      "metadata": {
        "id": "ul_4mTO1EmQ4"
      }
    },
    {
      "cell_type": "code",
      "metadata": {
        "id": "3HY6_RdreaA5"
      },
      "source": [
        "import tweepy\n",
        "import pandas as pd"
      ],
      "execution_count": 1,
      "outputs": []
    },
    {
      "cell_type": "markdown",
      "source": [
        "## Token Twitter API"
      ],
      "metadata": {
        "id": "ud3_3tDSEtcu"
      }
    },
    {
      "cell_type": "code",
      "metadata": {
        "id": "Chj3qpN1fcSo"
      },
      "source": [
        "api_key = \"-\"\n",
        "api_secret_key = \"-\"\n",
        "access_token = \"-\"\n",
        "access_token_secret = \"-\""
      ],
      "execution_count": 2,
      "outputs": []
    },
    {
      "cell_type": "code",
      "metadata": {
        "id": "9cD85KgbfvVd"
      },
      "source": [
        "auth = tweepy.OAuthHandler(api_key, api_secret_key)\n",
        "auth.set_access_token(access_token, access_token_secret)\n",
        "api = tweepy.API(auth)"
      ],
      "execution_count": 3,
      "outputs": []
    },
    {
      "cell_type": "markdown",
      "source": [
        "## Search"
      ],
      "metadata": {
        "id": "8UigTfc7E3X0"
      }
    },
    {
      "cell_type": "code",
      "metadata": {
        "id": "kU_fxjcyfxIq"
      },
      "source": [
        "hasil = tweepy.Cursor(api.search, q='vaksin -filter:retweets', lang=\"id\").items(10)"
      ],
      "execution_count": 15,
      "outputs": []
    },
    {
      "cell_type": "code",
      "metadata": {
        "colab": {
          "base_uri": "https://localhost:8080/"
        },
        "id": "v1sn1OJJfzRj",
        "outputId": "37bad8d0-1f15-4d47-ccaa-c73f23e64df8"
      },
      "source": [
        "# print(hasilSearch)\n",
        "for tweet in hasil:\n",
        "    print(tweet.created_at,  \"username = \", tweet.user.screen_name,  \"\\nteks = \", tweet.text)"
      ],
      "execution_count": 16,
      "outputs": [
        {
          "output_type": "stream",
          "name": "stdout",
          "text": [
            "2021-12-25 14:49:57 username =  isvggukie \n",
            "teks =  @onlysprings Walaupun udah full vaksin tetep bakal ngerasain itu kah?\n",
            "2021-12-25 14:49:41 username =  ayy_kimm \n",
            "teks =  Gais.. Please stay safe! Jangan lupa pake masker, dan vaksin.. \n",
            "Jaga diri kalian 💜💜 \n",
            "Semoga kita semua diberi kesehatan.. Amin..\n",
            "2021-12-25 14:49:28 username =  acci0crush \n",
            "teks =  Maju sini aku ga takut, aku dh vaksin😠😠\n",
            "2021-12-25 14:49:15 username =  reoxygen_ \n",
            "teks =  @ourlovelybunny Jujur, aku udh vaksin ke 2 tapi masih kena. Penyebabnya karna aku pribadi lalai dalam penggunaan ma… https://t.co/88F5koBiaC\n",
            "2021-12-25 14:48:44 username =  nunasky7 \n",
            "teks =  Syukurlah mama mau v4ksin hari senin 🥺 soalnya anak2nya udah pada vaksin semua, ayah mah gak tau masih 4nt1\n",
            "2021-12-25 14:48:43 username =  jaeminysa \n",
            "teks =  anyone yang nak sambung belajar vaksin booster tu wajib ke tak eh ?\n",
            "2021-12-25 14:48:31 username =  KaZuYa_TABi \n",
            "teks =  @eddowz Dy antivaxx tp dok wish speedy recovery apa semua..pastu kondem ckp ambik vaksin pun tak guna dlm tweet dy sebelum2 nie\n",
            "2021-12-25 14:48:26 username =  MahendraXY \n",
            "teks =  Semoga vaksin yg sudah bisa menjangkau anak kecil, bisa segera melidungi kita dari ancaman pandemi https://t.co/cqetuRmnmH\n",
            "2021-12-25 14:48:14 username =  chickwiqz \n",
            "teks =  untung mrk bertiga udh fully vaccinated jd mungkin ga terlalu kerasa?? sakitnya, soalnya gw dulu ngerasain kena c t… https://t.co/t6Y2nFUL0a\n",
            "2021-12-25 14:47:26 username =  Yntopribumi \n",
            "teks =  @OposisiCerdas Apa fungsi vaksin klo masih bisa tertular??...\n"
          ]
        }
      ]
    },
    {
      "cell_type": "markdown",
      "source": [
        "## Bentuk Dataframe"
      ],
      "metadata": {
        "id": "7Wo-i_M0HNl_"
      }
    },
    {
      "cell_type": "code",
      "metadata": {
        "id": "L3EW5ryQgxK-"
      },
      "source": [
        "search_dict = api.search(q=\"vaksin - filter:retweets\", lang=\"id\", count=10)"
      ],
      "execution_count": 18,
      "outputs": []
    },
    {
      "cell_type": "code",
      "metadata": {
        "id": "m1fzaysof1H1"
      },
      "source": [
        "def tweet(search_dict): \n",
        "    tweet_list = {}\n",
        "    for tweet in search_dict:\n",
        "        tweet_list[tweet.user.screen_name] = tweet.text\n",
        "    return tweet_list\n",
        "\n",
        "mydict = tweet(search_dict)"
      ],
      "execution_count": 20,
      "outputs": []
    },
    {
      "cell_type": "code",
      "metadata": {
        "colab": {
          "base_uri": "https://localhost:8080/"
        },
        "id": "J97hCQl0gagK",
        "outputId": "73898835-376d-470e-f02e-ad5c23f72cb3"
      },
      "source": [
        "mydict"
      ],
      "execution_count": 21,
      "outputs": [
        {
          "output_type": "execute_result",
          "data": {
            "text/plain": [
              "{'Ddiranaa': 'RT @ayy_kimm: Gais.. Please stay safe! Jangan lupa pake masker, dan vaksin.. \\nJaga diri kalian 💜💜 \\nSemoga kita semua diberi kesehatan.. Ami…',\n",
              " 'ElfizaEnny': 'RT @MMargani5: 1.Studi:Vaksin Sinovac Dosis Lengkap Plus Booster Tak Ampuh Lawan Omicron\\nSebuah studi yg dilakukan di Hong Kong menyatakan…',\n",
              " 'NabillaAnggita': 'RT @onlysprings: karena vaksin itu bukan obat, vaksin itu cuman sebagai perlindungan tambahan aja jadi saat kita terkena covid. Gejala yang…',\n",
              " 'Riyad168168': 'RT @Bams27735590: Alhamdulillah saya tidak divaksin\\n\\nKarena tahu vaksin itu racun pembunuh kaum Yahudi untuk mengurangi populasi umat manus…',\n",
              " 'SUNNMOON9597': 'RT @armyfess_: my! guys ini jadi salah satu pengingat buat kita juga.. sekelas bangtan yg notabenenya jaga kesehatan dgn rajin olahraga, ma…',\n",
              " 'aurelia_noni': 'RT @onlysprings: jangan lupa semuanya tetap diperhatikan terapi alami seperti berjemur.\\n\\njangan lupa juga tracing dan ketiga member sudah v…',\n",
              " 'bobi_kunku': 'RT @akundihackmulu: @StopPlandemit Yg gw heran, itu vaksin kesekolah2 aturan dr Mendagri, bukan kemenkes.\\nPCR dibandara sebelumnya jg anjur…',\n",
              " 'dalam_kubur': 'RT @SoeTjenMarching: Ada bbrp data beredar bahwa di UK, yg divaksin penuh ternyata lbh banyak terinfeksi omicron dibanding yg tak vaksin. L…',\n",
              " 'hopanacea': 'RT @myggnius: for your info, di korea emang lagi tinggi2nya omicron. inget pas marak varian delta di bulan Juni Juli di Indo dan sebanyak a…',\n",
              " 'opeknagnaj': 'RT @onlysprings: karena vaksin itu bukan obat, vaksin itu cuman sebagai perlindungan tambahan aja jadi saat kita terkena covid. Gejala yang…'}"
            ]
          },
          "metadata": {},
          "execution_count": 21
        }
      ]
    },
    {
      "cell_type": "code",
      "metadata": {
        "colab": {
          "base_uri": "https://localhost:8080/",
          "height": 363
        },
        "id": "7wyq-Yx8glCS",
        "outputId": "a787f329-024b-42af-9904-8dd9613be8bb"
      },
      "source": [
        "crawling_dataset = pd.DataFrame(list(mydict.items()), columns = ['username', 'komentar'])\n",
        "crawling_dataset"
      ],
      "execution_count": 23,
      "outputs": [
        {
          "output_type": "execute_result",
          "data": {
            "text/html": [
              "\n",
              "  <div id=\"df-e457c8bc-5976-4066-a78a-12f2dd22e962\">\n",
              "    <div class=\"colab-df-container\">\n",
              "      <div>\n",
              "<style scoped>\n",
              "    .dataframe tbody tr th:only-of-type {\n",
              "        vertical-align: middle;\n",
              "    }\n",
              "\n",
              "    .dataframe tbody tr th {\n",
              "        vertical-align: top;\n",
              "    }\n",
              "\n",
              "    .dataframe thead th {\n",
              "        text-align: right;\n",
              "    }\n",
              "</style>\n",
              "<table border=\"1\" class=\"dataframe\">\n",
              "  <thead>\n",
              "    <tr style=\"text-align: right;\">\n",
              "      <th></th>\n",
              "      <th>username</th>\n",
              "      <th>komentar</th>\n",
              "    </tr>\n",
              "  </thead>\n",
              "  <tbody>\n",
              "    <tr>\n",
              "      <th>0</th>\n",
              "      <td>hopanacea</td>\n",
              "      <td>RT @myggnius: for your info, di korea emang la...</td>\n",
              "    </tr>\n",
              "    <tr>\n",
              "      <th>1</th>\n",
              "      <td>ElfizaEnny</td>\n",
              "      <td>RT @MMargani5: 1.Studi:Vaksin Sinovac Dosis Le...</td>\n",
              "    </tr>\n",
              "    <tr>\n",
              "      <th>2</th>\n",
              "      <td>aurelia_noni</td>\n",
              "      <td>RT @onlysprings: jangan lupa semuanya tetap di...</td>\n",
              "    </tr>\n",
              "    <tr>\n",
              "      <th>3</th>\n",
              "      <td>Riyad168168</td>\n",
              "      <td>RT @Bams27735590: Alhamdulillah saya tidak div...</td>\n",
              "    </tr>\n",
              "    <tr>\n",
              "      <th>4</th>\n",
              "      <td>SUNNMOON9597</td>\n",
              "      <td>RT @armyfess_: my! guys ini jadi salah satu pe...</td>\n",
              "    </tr>\n",
              "    <tr>\n",
              "      <th>5</th>\n",
              "      <td>bobi_kunku</td>\n",
              "      <td>RT @akundihackmulu: @StopPlandemit Yg gw heran...</td>\n",
              "    </tr>\n",
              "    <tr>\n",
              "      <th>6</th>\n",
              "      <td>NabillaAnggita</td>\n",
              "      <td>RT @onlysprings: karena vaksin itu bukan obat,...</td>\n",
              "    </tr>\n",
              "    <tr>\n",
              "      <th>7</th>\n",
              "      <td>Ddiranaa</td>\n",
              "      <td>RT @ayy_kimm: Gais.. Please stay safe! Jangan ...</td>\n",
              "    </tr>\n",
              "    <tr>\n",
              "      <th>8</th>\n",
              "      <td>opeknagnaj</td>\n",
              "      <td>RT @onlysprings: karena vaksin itu bukan obat,...</td>\n",
              "    </tr>\n",
              "    <tr>\n",
              "      <th>9</th>\n",
              "      <td>dalam_kubur</td>\n",
              "      <td>RT @SoeTjenMarching: Ada bbrp data beredar bah...</td>\n",
              "    </tr>\n",
              "  </tbody>\n",
              "</table>\n",
              "</div>\n",
              "      <button class=\"colab-df-convert\" onclick=\"convertToInteractive('df-e457c8bc-5976-4066-a78a-12f2dd22e962')\"\n",
              "              title=\"Convert this dataframe to an interactive table.\"\n",
              "              style=\"display:none;\">\n",
              "        \n",
              "  <svg xmlns=\"http://www.w3.org/2000/svg\" height=\"24px\"viewBox=\"0 0 24 24\"\n",
              "       width=\"24px\">\n",
              "    <path d=\"M0 0h24v24H0V0z\" fill=\"none\"/>\n",
              "    <path d=\"M18.56 5.44l.94 2.06.94-2.06 2.06-.94-2.06-.94-.94-2.06-.94 2.06-2.06.94zm-11 1L8.5 8.5l.94-2.06 2.06-.94-2.06-.94L8.5 2.5l-.94 2.06-2.06.94zm10 10l.94 2.06.94-2.06 2.06-.94-2.06-.94-.94-2.06-.94 2.06-2.06.94z\"/><path d=\"M17.41 7.96l-1.37-1.37c-.4-.4-.92-.59-1.43-.59-.52 0-1.04.2-1.43.59L10.3 9.45l-7.72 7.72c-.78.78-.78 2.05 0 2.83L4 21.41c.39.39.9.59 1.41.59.51 0 1.02-.2 1.41-.59l7.78-7.78 2.81-2.81c.8-.78.8-2.07 0-2.86zM5.41 20L4 18.59l7.72-7.72 1.47 1.35L5.41 20z\"/>\n",
              "  </svg>\n",
              "      </button>\n",
              "      \n",
              "  <style>\n",
              "    .colab-df-container {\n",
              "      display:flex;\n",
              "      flex-wrap:wrap;\n",
              "      gap: 12px;\n",
              "    }\n",
              "\n",
              "    .colab-df-convert {\n",
              "      background-color: #E8F0FE;\n",
              "      border: none;\n",
              "      border-radius: 50%;\n",
              "      cursor: pointer;\n",
              "      display: none;\n",
              "      fill: #1967D2;\n",
              "      height: 32px;\n",
              "      padding: 0 0 0 0;\n",
              "      width: 32px;\n",
              "    }\n",
              "\n",
              "    .colab-df-convert:hover {\n",
              "      background-color: #E2EBFA;\n",
              "      box-shadow: 0px 1px 2px rgba(60, 64, 67, 0.3), 0px 1px 3px 1px rgba(60, 64, 67, 0.15);\n",
              "      fill: #174EA6;\n",
              "    }\n",
              "\n",
              "    [theme=dark] .colab-df-convert {\n",
              "      background-color: #3B4455;\n",
              "      fill: #D2E3FC;\n",
              "    }\n",
              "\n",
              "    [theme=dark] .colab-df-convert:hover {\n",
              "      background-color: #434B5C;\n",
              "      box-shadow: 0px 1px 3px 1px rgba(0, 0, 0, 0.15);\n",
              "      filter: drop-shadow(0px 1px 2px rgba(0, 0, 0, 0.3));\n",
              "      fill: #FFFFFF;\n",
              "    }\n",
              "  </style>\n",
              "\n",
              "      <script>\n",
              "        const buttonEl =\n",
              "          document.querySelector('#df-e457c8bc-5976-4066-a78a-12f2dd22e962 button.colab-df-convert');\n",
              "        buttonEl.style.display =\n",
              "          google.colab.kernel.accessAllowed ? 'block' : 'none';\n",
              "\n",
              "        async function convertToInteractive(key) {\n",
              "          const element = document.querySelector('#df-e457c8bc-5976-4066-a78a-12f2dd22e962');\n",
              "          const dataTable =\n",
              "            await google.colab.kernel.invokeFunction('convertToInteractive',\n",
              "                                                     [key], {});\n",
              "          if (!dataTable) return;\n",
              "\n",
              "          const docLinkHtml = 'Like what you see? Visit the ' +\n",
              "            '<a target=\"_blank\" href=https://colab.research.google.com/notebooks/data_table.ipynb>data table notebook</a>'\n",
              "            + ' to learn more about interactive tables.';\n",
              "          element.innerHTML = '';\n",
              "          dataTable['output_type'] = 'display_data';\n",
              "          await google.colab.output.renderOutput(dataTable, element);\n",
              "          const docLink = document.createElement('div');\n",
              "          docLink.innerHTML = docLinkHtml;\n",
              "          element.appendChild(docLink);\n",
              "        }\n",
              "      </script>\n",
              "    </div>\n",
              "  </div>\n",
              "  "
            ],
            "text/plain": [
              "         username                                           komentar\n",
              "0       hopanacea  RT @myggnius: for your info, di korea emang la...\n",
              "1      ElfizaEnny  RT @MMargani5: 1.Studi:Vaksin Sinovac Dosis Le...\n",
              "2    aurelia_noni  RT @onlysprings: jangan lupa semuanya tetap di...\n",
              "3     Riyad168168  RT @Bams27735590: Alhamdulillah saya tidak div...\n",
              "4    SUNNMOON9597  RT @armyfess_: my! guys ini jadi salah satu pe...\n",
              "5      bobi_kunku  RT @akundihackmulu: @StopPlandemit Yg gw heran...\n",
              "6  NabillaAnggita  RT @onlysprings: karena vaksin itu bukan obat,...\n",
              "7        Ddiranaa  RT @ayy_kimm: Gais.. Please stay safe! Jangan ...\n",
              "8      opeknagnaj  RT @onlysprings: karena vaksin itu bukan obat,...\n",
              "9     dalam_kubur  RT @SoeTjenMarching: Ada bbrp data beredar bah..."
            ]
          },
          "metadata": {},
          "execution_count": 23
        }
      ]
    },
    {
      "cell_type": "code",
      "source": [
        "# Save to Csv\n",
        "crawling_dataset.to_csv('Dataset_Vaksin.csv')"
      ],
      "metadata": {
        "id": "SkDh3yd3Ggws"
      },
      "execution_count": null,
      "outputs": []
    }
  ]
}
