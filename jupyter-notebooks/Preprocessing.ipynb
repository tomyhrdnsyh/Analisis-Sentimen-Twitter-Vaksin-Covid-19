{
  "nbformat": 4,
  "nbformat_minor": 0,
  "metadata": {
    "colab": {
      "name": "Preprocessing.ipynb",
      "provenance": [],
      "collapsed_sections": [],
      "mount_file_id": "1XVV_H9yWNaHol9yBw3BxYq29oC7V8iwK",
      "authorship_tag": "ABX9TyPwzqWUTxtjT1Jpu9mihpZl",
      "include_colab_link": true
    },
    "kernelspec": {
      "name": "python3",
      "display_name": "Python 3"
    },
    "language_info": {
      "name": "python"
    },
    "widgets": {
      "application/vnd.jupyter.widget-state+json": {
        "69f5d1d6c2614b28bdffe594114f18d0": {
          "model_module": "@jupyter-widgets/controls",
          "model_name": "HBoxModel",
          "model_module_version": "1.5.0",
          "state": {
            "_view_name": "HBoxView",
            "_dom_classes": [],
            "_model_name": "HBoxModel",
            "_view_module": "@jupyter-widgets/controls",
            "_model_module_version": "1.5.0",
            "_view_count": null,
            "_view_module_version": "1.5.0",
            "box_style": "",
            "layout": "IPY_MODEL_b3d45f5ed87f4b6ba82763c551477439",
            "_model_module": "@jupyter-widgets/controls",
            "children": [
              "IPY_MODEL_94a86547d2654495800925c20ab320fd",
              "IPY_MODEL_70575df038bf49868212643360d61e73",
              "IPY_MODEL_aff4cb1c8b734965a63f6f6d4e56abf3"
            ]
          }
        },
        "b3d45f5ed87f4b6ba82763c551477439": {
          "model_module": "@jupyter-widgets/base",
          "model_name": "LayoutModel",
          "model_module_version": "1.2.0",
          "state": {
            "_view_name": "LayoutView",
            "grid_template_rows": null,
            "right": null,
            "justify_content": null,
            "_view_module": "@jupyter-widgets/base",
            "overflow": null,
            "_model_module_version": "1.2.0",
            "_view_count": null,
            "flex_flow": null,
            "width": null,
            "min_width": null,
            "border": null,
            "align_items": null,
            "bottom": null,
            "_model_module": "@jupyter-widgets/base",
            "top": null,
            "grid_column": null,
            "overflow_y": null,
            "overflow_x": null,
            "grid_auto_flow": null,
            "grid_area": null,
            "grid_template_columns": null,
            "flex": null,
            "_model_name": "LayoutModel",
            "justify_items": null,
            "grid_row": null,
            "max_height": null,
            "align_content": null,
            "visibility": null,
            "align_self": null,
            "height": null,
            "min_height": null,
            "padding": null,
            "grid_auto_rows": null,
            "grid_gap": null,
            "max_width": null,
            "order": null,
            "_view_module_version": "1.2.0",
            "grid_template_areas": null,
            "object_position": null,
            "object_fit": null,
            "grid_auto_columns": null,
            "margin": null,
            "display": null,
            "left": null
          }
        },
        "94a86547d2654495800925c20ab320fd": {
          "model_module": "@jupyter-widgets/controls",
          "model_name": "HTMLModel",
          "model_module_version": "1.5.0",
          "state": {
            "_view_name": "HTMLView",
            "style": "IPY_MODEL_352871b5e5ed41d8a5998ac1c0ef2204",
            "_dom_classes": [],
            "description": "",
            "_model_name": "HTMLModel",
            "placeholder": "​",
            "_view_module": "@jupyter-widgets/controls",
            "_model_module_version": "1.5.0",
            "value": "Pandas Apply: 100%",
            "_view_count": null,
            "_view_module_version": "1.5.0",
            "description_tooltip": null,
            "_model_module": "@jupyter-widgets/controls",
            "layout": "IPY_MODEL_5d06dc219edf49df9057bc294926241f"
          }
        },
        "70575df038bf49868212643360d61e73": {
          "model_module": "@jupyter-widgets/controls",
          "model_name": "FloatProgressModel",
          "model_module_version": "1.5.0",
          "state": {
            "_view_name": "ProgressView",
            "style": "IPY_MODEL_2e4f734a40024551ae6dc88547c7aaeb",
            "_dom_classes": [],
            "description": "",
            "_model_name": "FloatProgressModel",
            "bar_style": "success",
            "max": 1000,
            "_view_module": "@jupyter-widgets/controls",
            "_model_module_version": "1.5.0",
            "value": 1000,
            "_view_count": null,
            "_view_module_version": "1.5.0",
            "orientation": "horizontal",
            "min": 0,
            "description_tooltip": null,
            "_model_module": "@jupyter-widgets/controls",
            "layout": "IPY_MODEL_df97c47c2a53402da1e7c13319f90e0c"
          }
        },
        "aff4cb1c8b734965a63f6f6d4e56abf3": {
          "model_module": "@jupyter-widgets/controls",
          "model_name": "HTMLModel",
          "model_module_version": "1.5.0",
          "state": {
            "_view_name": "HTMLView",
            "style": "IPY_MODEL_ca5aaab3c2a24494bba00d83e2d7aa7b",
            "_dom_classes": [],
            "description": "",
            "_model_name": "HTMLModel",
            "placeholder": "​",
            "_view_module": "@jupyter-widgets/controls",
            "_model_module_version": "1.5.0",
            "value": " 1000/1000 [00:00&lt;00:00, 12970.60it/s]",
            "_view_count": null,
            "_view_module_version": "1.5.0",
            "description_tooltip": null,
            "_model_module": "@jupyter-widgets/controls",
            "layout": "IPY_MODEL_991a9025d47c45ac979cc2f98d93bd65"
          }
        },
        "352871b5e5ed41d8a5998ac1c0ef2204": {
          "model_module": "@jupyter-widgets/controls",
          "model_name": "DescriptionStyleModel",
          "model_module_version": "1.5.0",
          "state": {
            "_view_name": "StyleView",
            "_model_name": "DescriptionStyleModel",
            "description_width": "",
            "_view_module": "@jupyter-widgets/base",
            "_model_module_version": "1.5.0",
            "_view_count": null,
            "_view_module_version": "1.2.0",
            "_model_module": "@jupyter-widgets/controls"
          }
        },
        "5d06dc219edf49df9057bc294926241f": {
          "model_module": "@jupyter-widgets/base",
          "model_name": "LayoutModel",
          "model_module_version": "1.2.0",
          "state": {
            "_view_name": "LayoutView",
            "grid_template_rows": null,
            "right": null,
            "justify_content": null,
            "_view_module": "@jupyter-widgets/base",
            "overflow": null,
            "_model_module_version": "1.2.0",
            "_view_count": null,
            "flex_flow": null,
            "width": null,
            "min_width": null,
            "border": null,
            "align_items": null,
            "bottom": null,
            "_model_module": "@jupyter-widgets/base",
            "top": null,
            "grid_column": null,
            "overflow_y": null,
            "overflow_x": null,
            "grid_auto_flow": null,
            "grid_area": null,
            "grid_template_columns": null,
            "flex": null,
            "_model_name": "LayoutModel",
            "justify_items": null,
            "grid_row": null,
            "max_height": null,
            "align_content": null,
            "visibility": null,
            "align_self": null,
            "height": null,
            "min_height": null,
            "padding": null,
            "grid_auto_rows": null,
            "grid_gap": null,
            "max_width": null,
            "order": null,
            "_view_module_version": "1.2.0",
            "grid_template_areas": null,
            "object_position": null,
            "object_fit": null,
            "grid_auto_columns": null,
            "margin": null,
            "display": null,
            "left": null
          }
        },
        "2e4f734a40024551ae6dc88547c7aaeb": {
          "model_module": "@jupyter-widgets/controls",
          "model_name": "ProgressStyleModel",
          "model_module_version": "1.5.0",
          "state": {
            "_view_name": "StyleView",
            "_model_name": "ProgressStyleModel",
            "description_width": "",
            "_view_module": "@jupyter-widgets/base",
            "_model_module_version": "1.5.0",
            "_view_count": null,
            "_view_module_version": "1.2.0",
            "bar_color": null,
            "_model_module": "@jupyter-widgets/controls"
          }
        },
        "df97c47c2a53402da1e7c13319f90e0c": {
          "model_module": "@jupyter-widgets/base",
          "model_name": "LayoutModel",
          "model_module_version": "1.2.0",
          "state": {
            "_view_name": "LayoutView",
            "grid_template_rows": null,
            "right": null,
            "justify_content": null,
            "_view_module": "@jupyter-widgets/base",
            "overflow": null,
            "_model_module_version": "1.2.0",
            "_view_count": null,
            "flex_flow": null,
            "width": null,
            "min_width": null,
            "border": null,
            "align_items": null,
            "bottom": null,
            "_model_module": "@jupyter-widgets/base",
            "top": null,
            "grid_column": null,
            "overflow_y": null,
            "overflow_x": null,
            "grid_auto_flow": null,
            "grid_area": null,
            "grid_template_columns": null,
            "flex": null,
            "_model_name": "LayoutModel",
            "justify_items": null,
            "grid_row": null,
            "max_height": null,
            "align_content": null,
            "visibility": null,
            "align_self": null,
            "height": null,
            "min_height": null,
            "padding": null,
            "grid_auto_rows": null,
            "grid_gap": null,
            "max_width": null,
            "order": null,
            "_view_module_version": "1.2.0",
            "grid_template_areas": null,
            "object_position": null,
            "object_fit": null,
            "grid_auto_columns": null,
            "margin": null,
            "display": null,
            "left": null
          }
        },
        "ca5aaab3c2a24494bba00d83e2d7aa7b": {
          "model_module": "@jupyter-widgets/controls",
          "model_name": "DescriptionStyleModel",
          "model_module_version": "1.5.0",
          "state": {
            "_view_name": "StyleView",
            "_model_name": "DescriptionStyleModel",
            "description_width": "",
            "_view_module": "@jupyter-widgets/base",
            "_model_module_version": "1.5.0",
            "_view_count": null,
            "_view_module_version": "1.2.0",
            "_model_module": "@jupyter-widgets/controls"
          }
        },
        "991a9025d47c45ac979cc2f98d93bd65": {
          "model_module": "@jupyter-widgets/base",
          "model_name": "LayoutModel",
          "model_module_version": "1.2.0",
          "state": {
            "_view_name": "LayoutView",
            "grid_template_rows": null,
            "right": null,
            "justify_content": null,
            "_view_module": "@jupyter-widgets/base",
            "overflow": null,
            "_model_module_version": "1.2.0",
            "_view_count": null,
            "flex_flow": null,
            "width": null,
            "min_width": null,
            "border": null,
            "align_items": null,
            "bottom": null,
            "_model_module": "@jupyter-widgets/base",
            "top": null,
            "grid_column": null,
            "overflow_y": null,
            "overflow_x": null,
            "grid_auto_flow": null,
            "grid_area": null,
            "grid_template_columns": null,
            "flex": null,
            "_model_name": "LayoutModel",
            "justify_items": null,
            "grid_row": null,
            "max_height": null,
            "align_content": null,
            "visibility": null,
            "align_self": null,
            "height": null,
            "min_height": null,
            "padding": null,
            "grid_auto_rows": null,
            "grid_gap": null,
            "max_width": null,
            "order": null,
            "_view_module_version": "1.2.0",
            "grid_template_areas": null,
            "object_position": null,
            "object_fit": null,
            "grid_auto_columns": null,
            "margin": null,
            "display": null,
            "left": null
          }
        }
      }
    }
  },
  "cells": [
    {
      "cell_type": "markdown",
      "metadata": {
        "id": "view-in-github",
        "colab_type": "text"
      },
      "source": [
        "<a href=\"https://colab.research.google.com/github/tomyhrdnsyh/Analisis-Sentimen-Twitter-Vaksin-Covid-19/blob/main/Preprocessing.ipynb\" target=\"_parent\"><img src=\"https://colab.research.google.com/assets/colab-badge.svg\" alt=\"Open In Colab\"/></a>"
      ]
    },
    {
      "cell_type": "code",
      "metadata": {
        "id": "mDdSCh2vLuc6"
      },
      "source": [
        "import pandas as pd\n",
        "import numpy as np"
      ],
      "execution_count": 1,
      "outputs": []
    },
    {
      "cell_type": "code",
      "metadata": {
        "colab": {
          "base_uri": "https://localhost:8080/"
        },
        "id": "1oyD1n0kQZSY",
        "outputId": "e7cb2733-3585-47fd-9234-80d8dbc71a44"
      },
      "source": [
        "import string\n",
        "import re\n",
        "\n",
        "# import word tokenize & FreqDist from NLTK\n",
        "import nltk\n",
        "nltk.download('punkt')\n",
        "\n",
        "from nltk.tokenize import word_tokenize\n",
        "from nltk.probability import FreqDist"
      ],
      "execution_count": 2,
      "outputs": [
        {
          "output_type": "stream",
          "name": "stdout",
          "text": [
            "[nltk_data] Downloading package punkt to /root/nltk_data...\n",
            "[nltk_data]   Package punkt is already up-to-date!\n"
          ]
        }
      ]
    },
    {
      "cell_type": "code",
      "metadata": {
        "colab": {
          "base_uri": "https://localhost:8080/"
        },
        "id": "JPoMFzc0ZYTv",
        "outputId": "e4eff901-0c4e-42fa-839f-f9eec115ad12"
      },
      "source": [
        "# import Sastrawi package\n",
        "! pip install Sastrawi\n",
        "! pip install swifter"
      ],
      "execution_count": 3,
      "outputs": [
        {
          "output_type": "stream",
          "name": "stdout",
          "text": [
            "Requirement already satisfied: Sastrawi in /usr/local/lib/python3.7/dist-packages (1.0.1)\n",
            "Requirement already satisfied: swifter in /usr/local/lib/python3.7/dist-packages (1.0.9)\n",
            "Requirement already satisfied: tqdm>=4.33.0 in /usr/local/lib/python3.7/dist-packages (from swifter) (4.62.3)\n",
            "Requirement already satisfied: bleach>=3.1.1 in /usr/local/lib/python3.7/dist-packages (from swifter) (4.1.0)\n",
            "Requirement already satisfied: dask[dataframe]>=2.10.0 in /usr/local/lib/python3.7/dist-packages (from swifter) (2.12.0)\n",
            "Requirement already satisfied: pandas>=1.0.0 in /usr/local/lib/python3.7/dist-packages (from swifter) (1.1.5)\n",
            "Requirement already satisfied: parso>0.4.0 in /usr/local/lib/python3.7/dist-packages (from swifter) (0.8.2)\n",
            "Requirement already satisfied: ipywidgets>=7.0.0 in /usr/local/lib/python3.7/dist-packages (from swifter) (7.6.5)\n",
            "Requirement already satisfied: cloudpickle>=0.2.2 in /usr/local/lib/python3.7/dist-packages (from swifter) (1.3.0)\n",
            "Requirement already satisfied: psutil>=5.6.6 in /usr/local/lib/python3.7/dist-packages (from swifter) (5.8.0)\n",
            "Requirement already satisfied: webencodings in /usr/local/lib/python3.7/dist-packages (from bleach>=3.1.1->swifter) (0.5.1)\n",
            "Requirement already satisfied: packaging in /usr/local/lib/python3.7/dist-packages (from bleach>=3.1.1->swifter) (21.3)\n",
            "Requirement already satisfied: six>=1.9.0 in /usr/local/lib/python3.7/dist-packages (from bleach>=3.1.1->swifter) (1.15.0)\n",
            "Requirement already satisfied: fsspec>=0.6.0 in /usr/local/lib/python3.7/dist-packages (from dask[dataframe]>=2.10.0->swifter) (2021.11.1)\n",
            "Requirement already satisfied: numpy>=1.13.0 in /usr/local/lib/python3.7/dist-packages (from dask[dataframe]>=2.10.0->swifter) (1.19.5)\n",
            "Requirement already satisfied: partd>=0.3.10 in /usr/local/lib/python3.7/dist-packages (from dask[dataframe]>=2.10.0->swifter) (1.2.0)\n",
            "Requirement already satisfied: toolz>=0.7.3 in /usr/local/lib/python3.7/dist-packages (from dask[dataframe]>=2.10.0->swifter) (0.11.2)\n",
            "Requirement already satisfied: ipython-genutils~=0.2.0 in /usr/local/lib/python3.7/dist-packages (from ipywidgets>=7.0.0->swifter) (0.2.0)\n",
            "Requirement already satisfied: nbformat>=4.2.0 in /usr/local/lib/python3.7/dist-packages (from ipywidgets>=7.0.0->swifter) (5.1.3)\n",
            "Requirement already satisfied: jupyterlab-widgets>=1.0.0 in /usr/local/lib/python3.7/dist-packages (from ipywidgets>=7.0.0->swifter) (1.0.2)\n",
            "Requirement already satisfied: ipykernel>=4.5.1 in /usr/local/lib/python3.7/dist-packages (from ipywidgets>=7.0.0->swifter) (4.10.1)\n",
            "Requirement already satisfied: ipython>=4.0.0 in /usr/local/lib/python3.7/dist-packages (from ipywidgets>=7.0.0->swifter) (5.5.0)\n",
            "Requirement already satisfied: traitlets>=4.3.1 in /usr/local/lib/python3.7/dist-packages (from ipywidgets>=7.0.0->swifter) (5.1.1)\n",
            "Requirement already satisfied: widgetsnbextension~=3.5.0 in /usr/local/lib/python3.7/dist-packages (from ipywidgets>=7.0.0->swifter) (3.5.2)\n",
            "Requirement already satisfied: jupyter-client in /usr/local/lib/python3.7/dist-packages (from ipykernel>=4.5.1->ipywidgets>=7.0.0->swifter) (5.3.5)\n",
            "Requirement already satisfied: tornado>=4.0 in /usr/local/lib/python3.7/dist-packages (from ipykernel>=4.5.1->ipywidgets>=7.0.0->swifter) (5.1.1)\n",
            "Requirement already satisfied: pickleshare in /usr/local/lib/python3.7/dist-packages (from ipython>=4.0.0->ipywidgets>=7.0.0->swifter) (0.7.5)\n",
            "Requirement already satisfied: prompt-toolkit<2.0.0,>=1.0.4 in /usr/local/lib/python3.7/dist-packages (from ipython>=4.0.0->ipywidgets>=7.0.0->swifter) (1.0.18)\n",
            "Requirement already satisfied: setuptools>=18.5 in /usr/local/lib/python3.7/dist-packages (from ipython>=4.0.0->ipywidgets>=7.0.0->swifter) (57.4.0)\n",
            "Requirement already satisfied: pexpect in /usr/local/lib/python3.7/dist-packages (from ipython>=4.0.0->ipywidgets>=7.0.0->swifter) (4.8.0)\n",
            "Requirement already satisfied: decorator in /usr/local/lib/python3.7/dist-packages (from ipython>=4.0.0->ipywidgets>=7.0.0->swifter) (4.4.2)\n",
            "Requirement already satisfied: pygments in /usr/local/lib/python3.7/dist-packages (from ipython>=4.0.0->ipywidgets>=7.0.0->swifter) (2.6.1)\n",
            "Requirement already satisfied: simplegeneric>0.8 in /usr/local/lib/python3.7/dist-packages (from ipython>=4.0.0->ipywidgets>=7.0.0->swifter) (0.8.1)\n",
            "Requirement already satisfied: jupyter-core in /usr/local/lib/python3.7/dist-packages (from nbformat>=4.2.0->ipywidgets>=7.0.0->swifter) (4.9.1)\n",
            "Requirement already satisfied: jsonschema!=2.5.0,>=2.4 in /usr/local/lib/python3.7/dist-packages (from nbformat>=4.2.0->ipywidgets>=7.0.0->swifter) (2.6.0)\n",
            "Requirement already satisfied: python-dateutil>=2.7.3 in /usr/local/lib/python3.7/dist-packages (from pandas>=1.0.0->swifter) (2.8.2)\n",
            "Requirement already satisfied: pytz>=2017.2 in /usr/local/lib/python3.7/dist-packages (from pandas>=1.0.0->swifter) (2018.9)\n",
            "Requirement already satisfied: locket in /usr/local/lib/python3.7/dist-packages (from partd>=0.3.10->dask[dataframe]>=2.10.0->swifter) (0.2.1)\n",
            "Requirement already satisfied: wcwidth in /usr/local/lib/python3.7/dist-packages (from prompt-toolkit<2.0.0,>=1.0.4->ipython>=4.0.0->ipywidgets>=7.0.0->swifter) (0.2.5)\n",
            "Requirement already satisfied: notebook>=4.4.1 in /usr/local/lib/python3.7/dist-packages (from widgetsnbextension~=3.5.0->ipywidgets>=7.0.0->swifter) (5.3.1)\n",
            "Requirement already satisfied: Send2Trash in /usr/local/lib/python3.7/dist-packages (from notebook>=4.4.1->widgetsnbextension~=3.5.0->ipywidgets>=7.0.0->swifter) (1.8.0)\n",
            "Requirement already satisfied: jinja2 in /usr/local/lib/python3.7/dist-packages (from notebook>=4.4.1->widgetsnbextension~=3.5.0->ipywidgets>=7.0.0->swifter) (2.11.3)\n",
            "Requirement already satisfied: nbconvert in /usr/local/lib/python3.7/dist-packages (from notebook>=4.4.1->widgetsnbextension~=3.5.0->ipywidgets>=7.0.0->swifter) (5.6.1)\n",
            "Requirement already satisfied: terminado>=0.8.1 in /usr/local/lib/python3.7/dist-packages (from notebook>=4.4.1->widgetsnbextension~=3.5.0->ipywidgets>=7.0.0->swifter) (0.12.1)\n",
            "Requirement already satisfied: pyzmq>=13 in /usr/local/lib/python3.7/dist-packages (from jupyter-client->ipykernel>=4.5.1->ipywidgets>=7.0.0->swifter) (22.3.0)\n",
            "Requirement already satisfied: ptyprocess in /usr/local/lib/python3.7/dist-packages (from terminado>=0.8.1->notebook>=4.4.1->widgetsnbextension~=3.5.0->ipywidgets>=7.0.0->swifter) (0.7.0)\n",
            "Requirement already satisfied: MarkupSafe>=0.23 in /usr/local/lib/python3.7/dist-packages (from jinja2->notebook>=4.4.1->widgetsnbextension~=3.5.0->ipywidgets>=7.0.0->swifter) (2.0.1)\n",
            "Requirement already satisfied: testpath in /usr/local/lib/python3.7/dist-packages (from nbconvert->notebook>=4.4.1->widgetsnbextension~=3.5.0->ipywidgets>=7.0.0->swifter) (0.5.0)\n",
            "Requirement already satisfied: mistune<2,>=0.8.1 in /usr/local/lib/python3.7/dist-packages (from nbconvert->notebook>=4.4.1->widgetsnbextension~=3.5.0->ipywidgets>=7.0.0->swifter) (0.8.4)\n",
            "Requirement already satisfied: entrypoints>=0.2.2 in /usr/local/lib/python3.7/dist-packages (from nbconvert->notebook>=4.4.1->widgetsnbextension~=3.5.0->ipywidgets>=7.0.0->swifter) (0.3)\n",
            "Requirement already satisfied: pandocfilters>=1.4.1 in /usr/local/lib/python3.7/dist-packages (from nbconvert->notebook>=4.4.1->widgetsnbextension~=3.5.0->ipywidgets>=7.0.0->swifter) (1.5.0)\n",
            "Requirement already satisfied: defusedxml in /usr/local/lib/python3.7/dist-packages (from nbconvert->notebook>=4.4.1->widgetsnbextension~=3.5.0->ipywidgets>=7.0.0->swifter) (0.7.1)\n",
            "Requirement already satisfied: pyparsing!=3.0.5,>=2.0.2 in /usr/local/lib/python3.7/dist-packages (from packaging->bleach>=3.1.1->swifter) (3.0.6)\n"
          ]
        }
      ]
    },
    {
      "cell_type": "code",
      "metadata": {
        "id": "mPBHQ9laLzbA",
        "colab": {
          "base_uri": "https://localhost:8080/",
          "height": 424
        },
        "outputId": "112abb77-8c2b-4f6c-f6fc-8c6fe59989a9"
      },
      "source": [
        "TWEET_DATA = pd.read_csv(\"/content/1000_DATASET.csv\", usecols=['komentar', 'sentimen'], encoding = \"ISO-8859-1\")\n",
        "TWEET_DATA['komentar'].str.encode('ascii', 'ignore')\n",
        "TWEET_DATA"
      ],
      "execution_count": 10,
      "outputs": [
        {
          "output_type": "execute_result",
          "data": {
            "text/html": [
              "<div>\n",
              "<style scoped>\n",
              "    .dataframe tbody tr th:only-of-type {\n",
              "        vertical-align: middle;\n",
              "    }\n",
              "\n",
              "    .dataframe tbody tr th {\n",
              "        vertical-align: top;\n",
              "    }\n",
              "\n",
              "    .dataframe thead th {\n",
              "        text-align: right;\n",
              "    }\n",
              "</style>\n",
              "<table border=\"1\" class=\"dataframe\">\n",
              "  <thead>\n",
              "    <tr style=\"text-align: right;\">\n",
              "      <th></th>\n",
              "      <th>komentar</th>\n",
              "      <th>sentimen</th>\n",
              "    </tr>\n",
              "  </thead>\n",
              "  <tbody>\n",
              "    <tr>\n",
              "      <th>0</th>\n",
              "      <td>Pak saya mau nikah pak thn ini.tapi wna belum ...</td>\n",
              "      <td>Negatif</td>\n",
              "    </tr>\n",
              "    <tr>\n",
              "      <th>1</th>\n",
              "      <td>Tetap semangat pak Jokowi,mempertahankan negar...</td>\n",
              "      <td>Positif</td>\n",
              "    </tr>\n",
              "    <tr>\n",
              "      <th>2</th>\n",
              "      <td>Pak jokowi ... tolong lah psbb nya di selesaik...</td>\n",
              "      <td>Negatif</td>\n",
              "    </tr>\n",
              "    <tr>\n",
              "      <th>3</th>\n",
              "      <td>Sehat terus ya pak</td>\n",
              "      <td>Positif</td>\n",
              "    </tr>\n",
              "    <tr>\n",
              "      <th>4</th>\n",
              "      <td>Pak gimana mw berjuang.. suami saya udh gak ke...</td>\n",
              "      <td>Negatif</td>\n",
              "    </tr>\n",
              "    <tr>\n",
              "      <th>...</th>\n",
              "      <td>...</td>\n",
              "      <td>...</td>\n",
              "    </tr>\n",
              "    <tr>\n",
              "      <th>995</th>\n",
              "      <td>Kalau Bisa Pak @jokowi Jgn Terlalu Sibuk Denga...</td>\n",
              "      <td>Negatif</td>\n",
              "    </tr>\n",
              "    <tr>\n",
              "      <th>996</th>\n",
              "      <td>Mudah2an tenaga vaksin nya cukup untuk 270 jt ...</td>\n",
              "      <td>Positif</td>\n",
              "    </tr>\n",
              "    <tr>\n",
              "      <th>997</th>\n",
              "      <td>Terima kasih Bpk Presiden... semangatya Pak</td>\n",
              "      <td>Positif</td>\n",
              "    </tr>\n",
              "    <tr>\n",
              "      <th>998</th>\n",
              "      <td>Kaltim samarinda hadir salam sehat smg lancar</td>\n",
              "      <td>Positif</td>\n",
              "    </tr>\n",
              "    <tr>\n",
              "      <th>999</th>\n",
              "      <td>Kenapa kita harus di vaksin pak?</td>\n",
              "      <td>Positif</td>\n",
              "    </tr>\n",
              "  </tbody>\n",
              "</table>\n",
              "<p>1000 rows × 2 columns</p>\n",
              "</div>"
            ],
            "text/plain": [
              "                                              komentar sentimen\n",
              "0    Pak saya mau nikah pak thn ini.tapi wna belum ...  Negatif\n",
              "1    Tetap semangat pak Jokowi,mempertahankan negar...  Positif\n",
              "2    Pak jokowi ... tolong lah psbb nya di selesaik...  Negatif\n",
              "3                                   Sehat terus ya pak  Positif\n",
              "4    Pak gimana mw berjuang.. suami saya udh gak ke...  Negatif\n",
              "..                                                 ...      ...\n",
              "995  Kalau Bisa Pak @jokowi Jgn Terlalu Sibuk Denga...  Negatif\n",
              "996  Mudah2an tenaga vaksin nya cukup untuk 270 jt ...  Positif\n",
              "997        Terima kasih Bpk Presiden... semangatya Pak  Positif\n",
              "998      Kaltim samarinda hadir salam sehat smg lancar  Positif\n",
              "999                   Kenapa kita harus di vaksin pak?  Positif\n",
              "\n",
              "[1000 rows x 2 columns]"
            ]
          },
          "metadata": {},
          "execution_count": 10
        }
      ]
    },
    {
      "cell_type": "markdown",
      "metadata": {
        "id": "eMyW304Dwzea"
      },
      "source": [
        "**Case Folding**"
      ]
    },
    {
      "cell_type": "code",
      "metadata": {
        "id": "B12zzaQZQMu8",
        "colab": {
          "base_uri": "https://localhost:8080/",
          "height": 424
        },
        "outputId": "529f984b-72a6-4a4a-9e88-2f8a926adf73"
      },
      "source": [
        "# -------- Case Folding ----------\n",
        "\n",
        "TWEET_DATA['Tweet'] = TWEET_DATA['komentar'].str.lower()\n",
        "TWEET_DATA"
      ],
      "execution_count": 11,
      "outputs": [
        {
          "output_type": "execute_result",
          "data": {
            "text/html": [
              "<div>\n",
              "<style scoped>\n",
              "    .dataframe tbody tr th:only-of-type {\n",
              "        vertical-align: middle;\n",
              "    }\n",
              "\n",
              "    .dataframe tbody tr th {\n",
              "        vertical-align: top;\n",
              "    }\n",
              "\n",
              "    .dataframe thead th {\n",
              "        text-align: right;\n",
              "    }\n",
              "</style>\n",
              "<table border=\"1\" class=\"dataframe\">\n",
              "  <thead>\n",
              "    <tr style=\"text-align: right;\">\n",
              "      <th></th>\n",
              "      <th>komentar</th>\n",
              "      <th>sentimen</th>\n",
              "      <th>Tweet</th>\n",
              "    </tr>\n",
              "  </thead>\n",
              "  <tbody>\n",
              "    <tr>\n",
              "      <th>0</th>\n",
              "      <td>Pak saya mau nikah pak thn ini.tapi wna belum ...</td>\n",
              "      <td>Negatif</td>\n",
              "      <td>pak saya mau nikah pak thn ini.tapi wna belum ...</td>\n",
              "    </tr>\n",
              "    <tr>\n",
              "      <th>1</th>\n",
              "      <td>Tetap semangat pak Jokowi,mempertahankan negar...</td>\n",
              "      <td>Positif</td>\n",
              "      <td>tetap semangat pak jokowi,mempertahankan negar...</td>\n",
              "    </tr>\n",
              "    <tr>\n",
              "      <th>2</th>\n",
              "      <td>Pak jokowi ... tolong lah psbb nya di selesaik...</td>\n",
              "      <td>Negatif</td>\n",
              "      <td>pak jokowi ... tolong lah psbb nya di selesaik...</td>\n",
              "    </tr>\n",
              "    <tr>\n",
              "      <th>3</th>\n",
              "      <td>Sehat terus ya pak</td>\n",
              "      <td>Positif</td>\n",
              "      <td>sehat terus ya pak</td>\n",
              "    </tr>\n",
              "    <tr>\n",
              "      <th>4</th>\n",
              "      <td>Pak gimana mw berjuang.. suami saya udh gak ke...</td>\n",
              "      <td>Negatif</td>\n",
              "      <td>pak gimana mw berjuang.. suami saya udh gak ke...</td>\n",
              "    </tr>\n",
              "    <tr>\n",
              "      <th>...</th>\n",
              "      <td>...</td>\n",
              "      <td>...</td>\n",
              "      <td>...</td>\n",
              "    </tr>\n",
              "    <tr>\n",
              "      <th>995</th>\n",
              "      <td>Kalau Bisa Pak @jokowi Jgn Terlalu Sibuk Denga...</td>\n",
              "      <td>Negatif</td>\n",
              "      <td>kalau bisa pak @jokowi jgn terlalu sibuk denga...</td>\n",
              "    </tr>\n",
              "    <tr>\n",
              "      <th>996</th>\n",
              "      <td>Mudah2an tenaga vaksin nya cukup untuk 270 jt ...</td>\n",
              "      <td>Positif</td>\n",
              "      <td>mudah2an tenaga vaksin nya cukup untuk 270 jt ...</td>\n",
              "    </tr>\n",
              "    <tr>\n",
              "      <th>997</th>\n",
              "      <td>Terima kasih Bpk Presiden... semangatya Pak</td>\n",
              "      <td>Positif</td>\n",
              "      <td>terima kasih bpk presiden... semangatya pak</td>\n",
              "    </tr>\n",
              "    <tr>\n",
              "      <th>998</th>\n",
              "      <td>Kaltim samarinda hadir salam sehat smg lancar</td>\n",
              "      <td>Positif</td>\n",
              "      <td>kaltim samarinda hadir salam sehat smg lancar</td>\n",
              "    </tr>\n",
              "    <tr>\n",
              "      <th>999</th>\n",
              "      <td>Kenapa kita harus di vaksin pak?</td>\n",
              "      <td>Positif</td>\n",
              "      <td>kenapa kita harus di vaksin pak?</td>\n",
              "    </tr>\n",
              "  </tbody>\n",
              "</table>\n",
              "<p>1000 rows × 3 columns</p>\n",
              "</div>"
            ],
            "text/plain": [
              "                                              komentar  ...                                              Tweet\n",
              "0    Pak saya mau nikah pak thn ini.tapi wna belum ...  ...  pak saya mau nikah pak thn ini.tapi wna belum ...\n",
              "1    Tetap semangat pak Jokowi,mempertahankan negar...  ...  tetap semangat pak jokowi,mempertahankan negar...\n",
              "2    Pak jokowi ... tolong lah psbb nya di selesaik...  ...  pak jokowi ... tolong lah psbb nya di selesaik...\n",
              "3                                   Sehat terus ya pak  ...                                 sehat terus ya pak\n",
              "4    Pak gimana mw berjuang.. suami saya udh gak ke...  ...  pak gimana mw berjuang.. suami saya udh gak ke...\n",
              "..                                                 ...  ...                                                ...\n",
              "995  Kalau Bisa Pak @jokowi Jgn Terlalu Sibuk Denga...  ...  kalau bisa pak @jokowi jgn terlalu sibuk denga...\n",
              "996  Mudah2an tenaga vaksin nya cukup untuk 270 jt ...  ...  mudah2an tenaga vaksin nya cukup untuk 270 jt ...\n",
              "997        Terima kasih Bpk Presiden... semangatya Pak  ...        terima kasih bpk presiden... semangatya pak\n",
              "998      Kaltim samarinda hadir salam sehat smg lancar  ...      kaltim samarinda hadir salam sehat smg lancar\n",
              "999                   Kenapa kita harus di vaksin pak?  ...                   kenapa kita harus di vaksin pak?\n",
              "\n",
              "[1000 rows x 3 columns]"
            ]
          },
          "metadata": {},
          "execution_count": 11
        }
      ]
    },
    {
      "cell_type": "markdown",
      "metadata": {
        "id": "WTVYr8rSRdCN"
      },
      "source": [
        " **Tokenizing**"
      ]
    },
    {
      "cell_type": "code",
      "metadata": {
        "id": "jlnx0UpcQwKC",
        "colab": {
          "base_uri": "https://localhost:8080/",
          "height": 424
        },
        "outputId": "9da5dfa8-505e-49fd-943e-0167c7394bd8"
      },
      "source": [
        "# -------- Tokenizing -----------\n",
        "def remove_tweet_special(text):\n",
        "    # remove tab, new line, ans back slice\n",
        "    text = text.replace('\\\\t', \" \").replace('\\\\n', \" \").replace('\\\\u', \" \").replace('\\\\', \" \")\n",
        "    # remove non ASCII (emoticon, chinese word, .etc)\n",
        "    text = text.encode('ascii', 'replace').decode('ascii')\n",
        "    # remove mention, link, hashtag\n",
        "    text = ' '.join(re.sub(\"([@#][A-Za-z0-9]+)|(\\w+:\\/\\/\\S+)\",\" \", text).split())\n",
        "    # remove incomplete URL\n",
        "    return text.replace(\"http://\", \" \").replace(\"https://\", \" \")\n",
        "\n",
        "TWEET_DATA['Tweet'] = TWEET_DATA['Tweet'].apply(remove_tweet_special)\n",
        "TWEET_DATA"
      ],
      "execution_count": 13,
      "outputs": [
        {
          "output_type": "execute_result",
          "data": {
            "text/html": [
              "<div>\n",
              "<style scoped>\n",
              "    .dataframe tbody tr th:only-of-type {\n",
              "        vertical-align: middle;\n",
              "    }\n",
              "\n",
              "    .dataframe tbody tr th {\n",
              "        vertical-align: top;\n",
              "    }\n",
              "\n",
              "    .dataframe thead th {\n",
              "        text-align: right;\n",
              "    }\n",
              "</style>\n",
              "<table border=\"1\" class=\"dataframe\">\n",
              "  <thead>\n",
              "    <tr style=\"text-align: right;\">\n",
              "      <th></th>\n",
              "      <th>komentar</th>\n",
              "      <th>sentimen</th>\n",
              "      <th>Tweet</th>\n",
              "    </tr>\n",
              "  </thead>\n",
              "  <tbody>\n",
              "    <tr>\n",
              "      <th>0</th>\n",
              "      <td>Pak saya mau nikah pak thn ini.tapi wna belum ...</td>\n",
              "      <td>Negatif</td>\n",
              "      <td>pak saya mau nikah pak thn ini.tapi wna belum ...</td>\n",
              "    </tr>\n",
              "    <tr>\n",
              "      <th>1</th>\n",
              "      <td>Tetap semangat pak Jokowi,mempertahankan negar...</td>\n",
              "      <td>Positif</td>\n",
              "      <td>tetap semangat pak jokowi,mempertahankan negar...</td>\n",
              "    </tr>\n",
              "    <tr>\n",
              "      <th>2</th>\n",
              "      <td>Pak jokowi ... tolong lah psbb nya di selesaik...</td>\n",
              "      <td>Negatif</td>\n",
              "      <td>pak jokowi ... tolong lah psbb nya di selesaik...</td>\n",
              "    </tr>\n",
              "    <tr>\n",
              "      <th>3</th>\n",
              "      <td>Sehat terus ya pak</td>\n",
              "      <td>Positif</td>\n",
              "      <td>sehat terus ya pak</td>\n",
              "    </tr>\n",
              "    <tr>\n",
              "      <th>4</th>\n",
              "      <td>Pak gimana mw berjuang.. suami saya udh gak ke...</td>\n",
              "      <td>Negatif</td>\n",
              "      <td>pak gimana mw berjuang.. suami saya udh gak ke...</td>\n",
              "    </tr>\n",
              "    <tr>\n",
              "      <th>...</th>\n",
              "      <td>...</td>\n",
              "      <td>...</td>\n",
              "      <td>...</td>\n",
              "    </tr>\n",
              "    <tr>\n",
              "      <th>995</th>\n",
              "      <td>Kalau Bisa Pak @jokowi Jgn Terlalu Sibuk Denga...</td>\n",
              "      <td>Negatif</td>\n",
              "      <td>kalau bisa pak jgn terlalu sibuk dengan vaksin...</td>\n",
              "    </tr>\n",
              "    <tr>\n",
              "      <th>996</th>\n",
              "      <td>Mudah2an tenaga vaksin nya cukup untuk 270 jt ...</td>\n",
              "      <td>Positif</td>\n",
              "      <td>mudah2an tenaga vaksin nya cukup untuk 270 jt ...</td>\n",
              "    </tr>\n",
              "    <tr>\n",
              "      <th>997</th>\n",
              "      <td>Terima kasih Bpk Presiden... semangatya Pak</td>\n",
              "      <td>Positif</td>\n",
              "      <td>terima kasih bpk presiden... semangatya pak</td>\n",
              "    </tr>\n",
              "    <tr>\n",
              "      <th>998</th>\n",
              "      <td>Kaltim samarinda hadir salam sehat smg lancar</td>\n",
              "      <td>Positif</td>\n",
              "      <td>kaltim samarinda hadir salam sehat smg lancar</td>\n",
              "    </tr>\n",
              "    <tr>\n",
              "      <th>999</th>\n",
              "      <td>Kenapa kita harus di vaksin pak?</td>\n",
              "      <td>Positif</td>\n",
              "      <td>kenapa kita harus di vaksin pak?</td>\n",
              "    </tr>\n",
              "  </tbody>\n",
              "</table>\n",
              "<p>1000 rows × 3 columns</p>\n",
              "</div>"
            ],
            "text/plain": [
              "                                              komentar  ...                                              Tweet\n",
              "0    Pak saya mau nikah pak thn ini.tapi wna belum ...  ...  pak saya mau nikah pak thn ini.tapi wna belum ...\n",
              "1    Tetap semangat pak Jokowi,mempertahankan negar...  ...  tetap semangat pak jokowi,mempertahankan negar...\n",
              "2    Pak jokowi ... tolong lah psbb nya di selesaik...  ...  pak jokowi ... tolong lah psbb nya di selesaik...\n",
              "3                                   Sehat terus ya pak  ...                                 sehat terus ya pak\n",
              "4    Pak gimana mw berjuang.. suami saya udh gak ke...  ...  pak gimana mw berjuang.. suami saya udh gak ke...\n",
              "..                                                 ...  ...                                                ...\n",
              "995  Kalau Bisa Pak @jokowi Jgn Terlalu Sibuk Denga...  ...  kalau bisa pak jgn terlalu sibuk dengan vaksin...\n",
              "996  Mudah2an tenaga vaksin nya cukup untuk 270 jt ...  ...  mudah2an tenaga vaksin nya cukup untuk 270 jt ...\n",
              "997        Terima kasih Bpk Presiden... semangatya Pak  ...        terima kasih bpk presiden... semangatya pak\n",
              "998      Kaltim samarinda hadir salam sehat smg lancar  ...      kaltim samarinda hadir salam sehat smg lancar\n",
              "999                   Kenapa kita harus di vaksin pak?  ...                   kenapa kita harus di vaksin pak?\n",
              "\n",
              "[1000 rows x 3 columns]"
            ]
          },
          "metadata": {},
          "execution_count": 13
        }
      ]
    },
    {
      "cell_type": "markdown",
      "metadata": {
        "id": "AJNVIgL6Rvhf"
      },
      "source": [
        "**Remove Unique Character**"
      ]
    },
    {
      "cell_type": "code",
      "metadata": {
        "id": "AKi-Z2ATR0mz",
        "colab": {
          "base_uri": "https://localhost:8080/",
          "height": 424
        },
        "outputId": "b80d6841-1835-471c-db3c-e3063f43ed33"
      },
      "source": [
        "def remove_unique_character(text):\n",
        "    text = re.sub(r\"\\d+\", \"\", text) #remove number\n",
        "    text = text.translate(str.maketrans(\"\",\"\",string.punctuation)) #remove punctuation/tanda baca\n",
        "    text = text.strip() #remove whitespace leading & trailing\n",
        "    text = re.sub('\\s+',' ',text) #remove multiple whitespace into single whitespace\n",
        "    text = re.sub(r\"\\b[a-zA-Z]\\b\", \"\", text) #remove single character\n",
        "    return  text\n",
        "\n",
        "TWEET_DATA['Tweet'] = TWEET_DATA['Tweet'].apply(remove_unique_character)\n",
        "TWEET_DATA"
      ],
      "execution_count": 14,
      "outputs": [
        {
          "output_type": "execute_result",
          "data": {
            "text/html": [
              "<div>\n",
              "<style scoped>\n",
              "    .dataframe tbody tr th:only-of-type {\n",
              "        vertical-align: middle;\n",
              "    }\n",
              "\n",
              "    .dataframe tbody tr th {\n",
              "        vertical-align: top;\n",
              "    }\n",
              "\n",
              "    .dataframe thead th {\n",
              "        text-align: right;\n",
              "    }\n",
              "</style>\n",
              "<table border=\"1\" class=\"dataframe\">\n",
              "  <thead>\n",
              "    <tr style=\"text-align: right;\">\n",
              "      <th></th>\n",
              "      <th>komentar</th>\n",
              "      <th>sentimen</th>\n",
              "      <th>Tweet</th>\n",
              "    </tr>\n",
              "  </thead>\n",
              "  <tbody>\n",
              "    <tr>\n",
              "      <th>0</th>\n",
              "      <td>Pak saya mau nikah pak thn ini.tapi wna belum ...</td>\n",
              "      <td>Negatif</td>\n",
              "      <td>pak saya mau nikah pak thn initapi wna belum b...</td>\n",
              "    </tr>\n",
              "    <tr>\n",
              "      <th>1</th>\n",
              "      <td>Tetap semangat pak Jokowi,mempertahankan negar...</td>\n",
              "      <td>Positif</td>\n",
              "      <td>tetap semangat pak jokowimempertahankan negara...</td>\n",
              "    </tr>\n",
              "    <tr>\n",
              "      <th>2</th>\n",
              "      <td>Pak jokowi ... tolong lah psbb nya di selesaik...</td>\n",
              "      <td>Negatif</td>\n",
              "      <td>pak jokowi tolong lah psbb nya di selesaikan s...</td>\n",
              "    </tr>\n",
              "    <tr>\n",
              "      <th>3</th>\n",
              "      <td>Sehat terus ya pak</td>\n",
              "      <td>Positif</td>\n",
              "      <td>sehat terus ya pak</td>\n",
              "    </tr>\n",
              "    <tr>\n",
              "      <th>4</th>\n",
              "      <td>Pak gimana mw berjuang.. suami saya udh gak ke...</td>\n",
              "      <td>Negatif</td>\n",
              "      <td>pak gimana mw berjuang suami saya udh gak kerj...</td>\n",
              "    </tr>\n",
              "    <tr>\n",
              "      <th>...</th>\n",
              "      <td>...</td>\n",
              "      <td>...</td>\n",
              "      <td>...</td>\n",
              "    </tr>\n",
              "    <tr>\n",
              "      <th>995</th>\n",
              "      <td>Kalau Bisa Pak @jokowi Jgn Terlalu Sibuk Denga...</td>\n",
              "      <td>Negatif</td>\n",
              "      <td>kalau bisa pak jgn terlalu sibuk dengan vaksin...</td>\n",
              "    </tr>\n",
              "    <tr>\n",
              "      <th>996</th>\n",
              "      <td>Mudah2an tenaga vaksin nya cukup untuk 270 jt ...</td>\n",
              "      <td>Positif</td>\n",
              "      <td>mudahan tenaga vaksin nya cukup untuk jt wni</td>\n",
              "    </tr>\n",
              "    <tr>\n",
              "      <th>997</th>\n",
              "      <td>Terima kasih Bpk Presiden... semangatya Pak</td>\n",
              "      <td>Positif</td>\n",
              "      <td>terima kasih bpk presiden semangatya pak</td>\n",
              "    </tr>\n",
              "    <tr>\n",
              "      <th>998</th>\n",
              "      <td>Kaltim samarinda hadir salam sehat smg lancar</td>\n",
              "      <td>Positif</td>\n",
              "      <td>kaltim samarinda hadir salam sehat smg lancar</td>\n",
              "    </tr>\n",
              "    <tr>\n",
              "      <th>999</th>\n",
              "      <td>Kenapa kita harus di vaksin pak?</td>\n",
              "      <td>Positif</td>\n",
              "      <td>kenapa kita harus di vaksin pak</td>\n",
              "    </tr>\n",
              "  </tbody>\n",
              "</table>\n",
              "<p>1000 rows × 3 columns</p>\n",
              "</div>"
            ],
            "text/plain": [
              "                                              komentar  ...                                              Tweet\n",
              "0    Pak saya mau nikah pak thn ini.tapi wna belum ...  ...  pak saya mau nikah pak thn initapi wna belum b...\n",
              "1    Tetap semangat pak Jokowi,mempertahankan negar...  ...  tetap semangat pak jokowimempertahankan negara...\n",
              "2    Pak jokowi ... tolong lah psbb nya di selesaik...  ...  pak jokowi tolong lah psbb nya di selesaikan s...\n",
              "3                                   Sehat terus ya pak  ...                                 sehat terus ya pak\n",
              "4    Pak gimana mw berjuang.. suami saya udh gak ke...  ...  pak gimana mw berjuang suami saya udh gak kerj...\n",
              "..                                                 ...  ...                                                ...\n",
              "995  Kalau Bisa Pak @jokowi Jgn Terlalu Sibuk Denga...  ...  kalau bisa pak jgn terlalu sibuk dengan vaksin...\n",
              "996  Mudah2an tenaga vaksin nya cukup untuk 270 jt ...  ...       mudahan tenaga vaksin nya cukup untuk jt wni\n",
              "997        Terima kasih Bpk Presiden... semangatya Pak  ...           terima kasih bpk presiden semangatya pak\n",
              "998      Kaltim samarinda hadir salam sehat smg lancar  ...      kaltim samarinda hadir salam sehat smg lancar\n",
              "999                   Kenapa kita harus di vaksin pak?  ...                    kenapa kita harus di vaksin pak\n",
              "\n",
              "[1000 rows x 3 columns]"
            ]
          },
          "metadata": {},
          "execution_count": 14
        }
      ]
    },
    {
      "cell_type": "code",
      "metadata": {
        "colab": {
          "base_uri": "https://localhost:8080/",
          "height": 458
        },
        "id": "MilGPNgdWEc7",
        "outputId": "ec147d6b-c8a5-4ba7-ab2d-f418af997733"
      },
      "source": [
        "# NLTK word tokenize\n",
        "def word_tokenize_wrapper(text):\n",
        "    return word_tokenize(text)\n",
        "\n",
        "TWEET_DATA['tweet_tokens'] = TWEET_DATA['Tweet'].apply(word_tokenize_wrapper)\n",
        "\n",
        "print('Tokenizing Result : \\n')\n",
        "TWEET_DATA"
      ],
      "execution_count": 15,
      "outputs": [
        {
          "output_type": "stream",
          "name": "stdout",
          "text": [
            "Tokenizing Result : \n",
            "\n"
          ]
        },
        {
          "output_type": "execute_result",
          "data": {
            "text/html": [
              "<div>\n",
              "<style scoped>\n",
              "    .dataframe tbody tr th:only-of-type {\n",
              "        vertical-align: middle;\n",
              "    }\n",
              "\n",
              "    .dataframe tbody tr th {\n",
              "        vertical-align: top;\n",
              "    }\n",
              "\n",
              "    .dataframe thead th {\n",
              "        text-align: right;\n",
              "    }\n",
              "</style>\n",
              "<table border=\"1\" class=\"dataframe\">\n",
              "  <thead>\n",
              "    <tr style=\"text-align: right;\">\n",
              "      <th></th>\n",
              "      <th>komentar</th>\n",
              "      <th>sentimen</th>\n",
              "      <th>Tweet</th>\n",
              "      <th>tweet_tokens</th>\n",
              "    </tr>\n",
              "  </thead>\n",
              "  <tbody>\n",
              "    <tr>\n",
              "      <th>0</th>\n",
              "      <td>Pak saya mau nikah pak thn ini.tapi wna belum ...</td>\n",
              "      <td>Negatif</td>\n",
              "      <td>pak saya mau nikah pak thn initapi wna belum b...</td>\n",
              "      <td>[pak, saya, mau, nikah, pak, thn, initapi, wna...</td>\n",
              "    </tr>\n",
              "    <tr>\n",
              "      <th>1</th>\n",
              "      <td>Tetap semangat pak Jokowi,mempertahankan negar...</td>\n",
              "      <td>Positif</td>\n",
              "      <td>tetap semangat pak jokowimempertahankan negara...</td>\n",
              "      <td>[tetap, semangat, pak, jokowimempertahankan, n...</td>\n",
              "    </tr>\n",
              "    <tr>\n",
              "      <th>2</th>\n",
              "      <td>Pak jokowi ... tolong lah psbb nya di selesaik...</td>\n",
              "      <td>Negatif</td>\n",
              "      <td>pak jokowi tolong lah psbb nya di selesaikan s...</td>\n",
              "      <td>[pak, jokowi, tolong, lah, psbb, nya, di, sele...</td>\n",
              "    </tr>\n",
              "    <tr>\n",
              "      <th>3</th>\n",
              "      <td>Sehat terus ya pak</td>\n",
              "      <td>Positif</td>\n",
              "      <td>sehat terus ya pak</td>\n",
              "      <td>[sehat, terus, ya, pak]</td>\n",
              "    </tr>\n",
              "    <tr>\n",
              "      <th>4</th>\n",
              "      <td>Pak gimana mw berjuang.. suami saya udh gak ke...</td>\n",
              "      <td>Negatif</td>\n",
              "      <td>pak gimana mw berjuang suami saya udh gak kerj...</td>\n",
              "      <td>[pak, gimana, mw, berjuang, suami, saya, udh, ...</td>\n",
              "    </tr>\n",
              "    <tr>\n",
              "      <th>...</th>\n",
              "      <td>...</td>\n",
              "      <td>...</td>\n",
              "      <td>...</td>\n",
              "      <td>...</td>\n",
              "    </tr>\n",
              "    <tr>\n",
              "      <th>995</th>\n",
              "      <td>Kalau Bisa Pak @jokowi Jgn Terlalu Sibuk Denga...</td>\n",
              "      <td>Negatif</td>\n",
              "      <td>kalau bisa pak jgn terlalu sibuk dengan vaksin...</td>\n",
              "      <td>[kalau, bisa, pak, jgn, terlalu, sibuk, dengan...</td>\n",
              "    </tr>\n",
              "    <tr>\n",
              "      <th>996</th>\n",
              "      <td>Mudah2an tenaga vaksin nya cukup untuk 270 jt ...</td>\n",
              "      <td>Positif</td>\n",
              "      <td>mudahan tenaga vaksin nya cukup untuk jt wni</td>\n",
              "      <td>[mudahan, tenaga, vaksin, nya, cukup, untuk, j...</td>\n",
              "    </tr>\n",
              "    <tr>\n",
              "      <th>997</th>\n",
              "      <td>Terima kasih Bpk Presiden... semangatya Pak</td>\n",
              "      <td>Positif</td>\n",
              "      <td>terima kasih bpk presiden semangatya pak</td>\n",
              "      <td>[terima, kasih, bpk, presiden, semangatya, pak]</td>\n",
              "    </tr>\n",
              "    <tr>\n",
              "      <th>998</th>\n",
              "      <td>Kaltim samarinda hadir salam sehat smg lancar</td>\n",
              "      <td>Positif</td>\n",
              "      <td>kaltim samarinda hadir salam sehat smg lancar</td>\n",
              "      <td>[kaltim, samarinda, hadir, salam, sehat, smg, ...</td>\n",
              "    </tr>\n",
              "    <tr>\n",
              "      <th>999</th>\n",
              "      <td>Kenapa kita harus di vaksin pak?</td>\n",
              "      <td>Positif</td>\n",
              "      <td>kenapa kita harus di vaksin pak</td>\n",
              "      <td>[kenapa, kita, harus, di, vaksin, pak]</td>\n",
              "    </tr>\n",
              "  </tbody>\n",
              "</table>\n",
              "<p>1000 rows × 4 columns</p>\n",
              "</div>"
            ],
            "text/plain": [
              "                                              komentar  ...                                       tweet_tokens\n",
              "0    Pak saya mau nikah pak thn ini.tapi wna belum ...  ...  [pak, saya, mau, nikah, pak, thn, initapi, wna...\n",
              "1    Tetap semangat pak Jokowi,mempertahankan negar...  ...  [tetap, semangat, pak, jokowimempertahankan, n...\n",
              "2    Pak jokowi ... tolong lah psbb nya di selesaik...  ...  [pak, jokowi, tolong, lah, psbb, nya, di, sele...\n",
              "3                                   Sehat terus ya pak  ...                            [sehat, terus, ya, pak]\n",
              "4    Pak gimana mw berjuang.. suami saya udh gak ke...  ...  [pak, gimana, mw, berjuang, suami, saya, udh, ...\n",
              "..                                                 ...  ...                                                ...\n",
              "995  Kalau Bisa Pak @jokowi Jgn Terlalu Sibuk Denga...  ...  [kalau, bisa, pak, jgn, terlalu, sibuk, dengan...\n",
              "996  Mudah2an tenaga vaksin nya cukup untuk 270 jt ...  ...  [mudahan, tenaga, vaksin, nya, cukup, untuk, j...\n",
              "997        Terima kasih Bpk Presiden... semangatya Pak  ...    [terima, kasih, bpk, presiden, semangatya, pak]\n",
              "998      Kaltim samarinda hadir salam sehat smg lancar  ...  [kaltim, samarinda, hadir, salam, sehat, smg, ...\n",
              "999                   Kenapa kita harus di vaksin pak?  ...             [kenapa, kita, harus, di, vaksin, pak]\n",
              "\n",
              "[1000 rows x 4 columns]"
            ]
          },
          "metadata": {},
          "execution_count": 15
        }
      ]
    },
    {
      "cell_type": "code",
      "metadata": {
        "colab": {
          "base_uri": "https://localhost:8080/",
          "height": 458
        },
        "id": "0j7kxDbVW0Qs",
        "outputId": "896cf4e1-8f84-496f-f93e-6ddfe82a32f7"
      },
      "source": [
        "# NLTK calc frequency distribution\n",
        "def freqDist_wrapper(text):\n",
        "    return FreqDist(text)\n",
        "\n",
        "TWEET_DATA['tweet_tokens_fdist'] = TWEET_DATA['tweet_tokens'].apply(freqDist_wrapper)\n",
        "\n",
        "print('Frequency Tokens : \\n')\n",
        "TWEET_DATA['tweet_tokens_fdist'].head().apply(lambda x : x.most_common())\n",
        "TWEET_DATA"
      ],
      "execution_count": 16,
      "outputs": [
        {
          "output_type": "stream",
          "name": "stdout",
          "text": [
            "Frequency Tokens : \n",
            "\n"
          ]
        },
        {
          "output_type": "execute_result",
          "data": {
            "text/html": [
              "<div>\n",
              "<style scoped>\n",
              "    .dataframe tbody tr th:only-of-type {\n",
              "        vertical-align: middle;\n",
              "    }\n",
              "\n",
              "    .dataframe tbody tr th {\n",
              "        vertical-align: top;\n",
              "    }\n",
              "\n",
              "    .dataframe thead th {\n",
              "        text-align: right;\n",
              "    }\n",
              "</style>\n",
              "<table border=\"1\" class=\"dataframe\">\n",
              "  <thead>\n",
              "    <tr style=\"text-align: right;\">\n",
              "      <th></th>\n",
              "      <th>komentar</th>\n",
              "      <th>sentimen</th>\n",
              "      <th>Tweet</th>\n",
              "      <th>tweet_tokens</th>\n",
              "      <th>tweet_tokens_fdist</th>\n",
              "    </tr>\n",
              "  </thead>\n",
              "  <tbody>\n",
              "    <tr>\n",
              "      <th>0</th>\n",
              "      <td>Pak saya mau nikah pak thn ini.tapi wna belum ...</td>\n",
              "      <td>Negatif</td>\n",
              "      <td>pak saya mau nikah pak thn initapi wna belum b...</td>\n",
              "      <td>[pak, saya, mau, nikah, pak, thn, initapi, wna...</td>\n",
              "      <td>{'pak': 2, 'saya': 1, 'mau': 1, 'nikah': 1, 't...</td>\n",
              "    </tr>\n",
              "    <tr>\n",
              "      <th>1</th>\n",
              "      <td>Tetap semangat pak Jokowi,mempertahankan negar...</td>\n",
              "      <td>Positif</td>\n",
              "      <td>tetap semangat pak jokowimempertahankan negara...</td>\n",
              "      <td>[tetap, semangat, pak, jokowimempertahankan, n...</td>\n",
              "      <td>{'tetap': 1, 'semangat': 1, 'pak': 1, 'jokowim...</td>\n",
              "    </tr>\n",
              "    <tr>\n",
              "      <th>2</th>\n",
              "      <td>Pak jokowi ... tolong lah psbb nya di selesaik...</td>\n",
              "      <td>Negatif</td>\n",
              "      <td>pak jokowi tolong lah psbb nya di selesaikan s...</td>\n",
              "      <td>[pak, jokowi, tolong, lah, psbb, nya, di, sele...</td>\n",
              "      <td>{'pak': 1, 'jokowi': 1, 'tolong': 1, 'lah': 1,...</td>\n",
              "    </tr>\n",
              "    <tr>\n",
              "      <th>3</th>\n",
              "      <td>Sehat terus ya pak</td>\n",
              "      <td>Positif</td>\n",
              "      <td>sehat terus ya pak</td>\n",
              "      <td>[sehat, terus, ya, pak]</td>\n",
              "      <td>{'sehat': 1, 'terus': 1, 'ya': 1, 'pak': 1}</td>\n",
              "    </tr>\n",
              "    <tr>\n",
              "      <th>4</th>\n",
              "      <td>Pak gimana mw berjuang.. suami saya udh gak ke...</td>\n",
              "      <td>Negatif</td>\n",
              "      <td>pak gimana mw berjuang suami saya udh gak kerj...</td>\n",
              "      <td>[pak, gimana, mw, berjuang, suami, saya, udh, ...</td>\n",
              "      <td>{'pak': 1, 'gimana': 1, 'mw': 1, 'berjuang': 1...</td>\n",
              "    </tr>\n",
              "    <tr>\n",
              "      <th>...</th>\n",
              "      <td>...</td>\n",
              "      <td>...</td>\n",
              "      <td>...</td>\n",
              "      <td>...</td>\n",
              "      <td>...</td>\n",
              "    </tr>\n",
              "    <tr>\n",
              "      <th>995</th>\n",
              "      <td>Kalau Bisa Pak @jokowi Jgn Terlalu Sibuk Denga...</td>\n",
              "      <td>Negatif</td>\n",
              "      <td>kalau bisa pak jgn terlalu sibuk dengan vaksin...</td>\n",
              "      <td>[kalau, bisa, pak, jgn, terlalu, sibuk, dengan...</td>\n",
              "      <td>{'kalau': 1, 'bisa': 2, 'pak': 2, 'jgn': 1, 't...</td>\n",
              "    </tr>\n",
              "    <tr>\n",
              "      <th>996</th>\n",
              "      <td>Mudah2an tenaga vaksin nya cukup untuk 270 jt ...</td>\n",
              "      <td>Positif</td>\n",
              "      <td>mudahan tenaga vaksin nya cukup untuk jt wni</td>\n",
              "      <td>[mudahan, tenaga, vaksin, nya, cukup, untuk, j...</td>\n",
              "      <td>{'mudahan': 1, 'tenaga': 1, 'vaksin': 1, 'nya'...</td>\n",
              "    </tr>\n",
              "    <tr>\n",
              "      <th>997</th>\n",
              "      <td>Terima kasih Bpk Presiden... semangatya Pak</td>\n",
              "      <td>Positif</td>\n",
              "      <td>terima kasih bpk presiden semangatya pak</td>\n",
              "      <td>[terima, kasih, bpk, presiden, semangatya, pak]</td>\n",
              "      <td>{'terima': 1, 'kasih': 1, 'bpk': 1, 'presiden'...</td>\n",
              "    </tr>\n",
              "    <tr>\n",
              "      <th>998</th>\n",
              "      <td>Kaltim samarinda hadir salam sehat smg lancar</td>\n",
              "      <td>Positif</td>\n",
              "      <td>kaltim samarinda hadir salam sehat smg lancar</td>\n",
              "      <td>[kaltim, samarinda, hadir, salam, sehat, smg, ...</td>\n",
              "      <td>{'kaltim': 1, 'samarinda': 1, 'hadir': 1, 'sal...</td>\n",
              "    </tr>\n",
              "    <tr>\n",
              "      <th>999</th>\n",
              "      <td>Kenapa kita harus di vaksin pak?</td>\n",
              "      <td>Positif</td>\n",
              "      <td>kenapa kita harus di vaksin pak</td>\n",
              "      <td>[kenapa, kita, harus, di, vaksin, pak]</td>\n",
              "      <td>{'kenapa': 1, 'kita': 1, 'harus': 1, 'di': 1, ...</td>\n",
              "    </tr>\n",
              "  </tbody>\n",
              "</table>\n",
              "<p>1000 rows × 5 columns</p>\n",
              "</div>"
            ],
            "text/plain": [
              "                                              komentar  ...                                 tweet_tokens_fdist\n",
              "0    Pak saya mau nikah pak thn ini.tapi wna belum ...  ...  {'pak': 2, 'saya': 1, 'mau': 1, 'nikah': 1, 't...\n",
              "1    Tetap semangat pak Jokowi,mempertahankan negar...  ...  {'tetap': 1, 'semangat': 1, 'pak': 1, 'jokowim...\n",
              "2    Pak jokowi ... tolong lah psbb nya di selesaik...  ...  {'pak': 1, 'jokowi': 1, 'tolong': 1, 'lah': 1,...\n",
              "3                                   Sehat terus ya pak  ...        {'sehat': 1, 'terus': 1, 'ya': 1, 'pak': 1}\n",
              "4    Pak gimana mw berjuang.. suami saya udh gak ke...  ...  {'pak': 1, 'gimana': 1, 'mw': 1, 'berjuang': 1...\n",
              "..                                                 ...  ...                                                ...\n",
              "995  Kalau Bisa Pak @jokowi Jgn Terlalu Sibuk Denga...  ...  {'kalau': 1, 'bisa': 2, 'pak': 2, 'jgn': 1, 't...\n",
              "996  Mudah2an tenaga vaksin nya cukup untuk 270 jt ...  ...  {'mudahan': 1, 'tenaga': 1, 'vaksin': 1, 'nya'...\n",
              "997        Terima kasih Bpk Presiden... semangatya Pak  ...  {'terima': 1, 'kasih': 1, 'bpk': 1, 'presiden'...\n",
              "998      Kaltim samarinda hadir salam sehat smg lancar  ...  {'kaltim': 1, 'samarinda': 1, 'hadir': 1, 'sal...\n",
              "999                   Kenapa kita harus di vaksin pak?  ...  {'kenapa': 1, 'kita': 1, 'harus': 1, 'di': 1, ...\n",
              "\n",
              "[1000 rows x 5 columns]"
            ]
          },
          "metadata": {},
          "execution_count": 16
        }
      ]
    },
    {
      "cell_type": "markdown",
      "metadata": {
        "id": "npBhdJJF2gbF"
      },
      "source": [
        "**STOPWORD**"
      ]
    },
    {
      "cell_type": "markdown",
      "metadata": {
        "id": "KJB5cYWD3B1g"
      },
      "source": [
        "Mengimport stopword dari library nltk"
      ]
    },
    {
      "cell_type": "code",
      "metadata": {
        "colab": {
          "base_uri": "https://localhost:8080/"
        },
        "id": "nzlOtU_CXWYn",
        "outputId": "810db8ba-e228-4fb5-ef29-7b773c390a18"
      },
      "source": [
        "nltk.download('stopwords')\n",
        "from nltk.corpus import stopwords\n",
        "# ----------------------- get stopword from NLTK stopword -------------------------------\n",
        "# get stopword indonesia\n",
        "list_stopwords = stopwords.words('indonesian')\n",
        "print(len(list_stopwords))"
      ],
      "execution_count": 17,
      "outputs": [
        {
          "output_type": "stream",
          "name": "stdout",
          "text": [
            "[nltk_data] Downloading package stopwords to /root/nltk_data...\n",
            "[nltk_data]   Unzipping corpora/stopwords.zip.\n",
            "758\n"
          ]
        }
      ]
    },
    {
      "cell_type": "markdown",
      "metadata": {
        "id": "hqH_JmY_26a3"
      },
      "source": [
        "Menambah list stopword secara manual"
      ]
    },
    {
      "cell_type": "code",
      "metadata": {
        "colab": {
          "base_uri": "https://localhost:8080/"
        },
        "id": "ihKbzCRxXkYW",
        "outputId": "6c33713d-fd88-4717-fa2b-bbc4d0b1fc86"
      },
      "source": [
        "# ---------------------------- manualy add stopword  ------------------------------------\n",
        "# append additional stopword\n",
        "list_stopwords.extend([\"yg\", \"dg\", \"rt\", \"dgn\", \"ny\", \"d\", 'klo',\n",
        "                       'kalo', 'amp', 'biar', 'bikin', 'bilang',\n",
        "                       'gak', 'ga', 'krn', 'nya', 'nih', 'sih',\n",
        "                       'si', 'tau', 'tdk', 'tuh', 'utk', 'ya',\n",
        "                       'jd', 'jgn', 'sdh', 'aja', 'n', 't',\n",
        "                       'nyg', 'hehe', 'pen', 'u', 'nan', 'loh', 'rt',\n",
        "                       '&amp', 'yah', 'man'])\n",
        "len(list_stopwords)"
      ],
      "execution_count": 18,
      "outputs": [
        {
          "output_type": "execute_result",
          "data": {
            "text/plain": [
              "798"
            ]
          },
          "metadata": {},
          "execution_count": 18
        }
      ]
    },
    {
      "cell_type": "markdown",
      "metadata": {
        "id": "WzPheqw-3PRh"
      },
      "source": [
        "**Remove Stopword**"
      ]
    },
    {
      "cell_type": "code",
      "metadata": {
        "id": "wLLtPMSpYDbH"
      },
      "source": [
        "list_stopwords = set(list_stopwords)\n",
        "\n",
        "#remove stopword pada list token\n",
        "def stopwords_removal(words):\n",
        "    return [word for word in words if word not in list_stopwords]\n",
        "\n",
        "TWEET_DATA['tweet_tokens_WSW'] = TWEET_DATA['tweet_tokens'].apply(stopwords_removal)\n",
        "# TWEET_DATA['tweet_tokens_WSW'].head()"
      ],
      "execution_count": 19,
      "outputs": []
    },
    {
      "cell_type": "code",
      "metadata": {
        "colab": {
          "base_uri": "https://localhost:8080/"
        },
        "id": "OxldJWV8YRnJ",
        "outputId": "e39ee256-4cc3-47ee-b0d9-026e10123d21"
      },
      "source": [
        "normalizad_word = pd.read_excel(\"/content/key_norm_revisi.xlsx\")\n",
        "\n",
        "normalizad_word_dict = {}\n",
        "\n",
        "for index, row in normalizad_word.iterrows():\n",
        "    if row[0] not in normalizad_word_dict:\n",
        "        normalizad_word_dict[row[0]] = row[1]\n",
        "\n",
        "def normalized_term(document):\n",
        "    return [normalizad_word_dict[term] if term in normalizad_word_dict else term for term in document]\n",
        "\n",
        "TWEET_DATA['tweet_normalized'] = TWEET_DATA['tweet_tokens_WSW'].apply(normalized_term)\n",
        "TWEET_DATA['tweet_normalized']"
      ],
      "execution_count": 23,
      "outputs": [
        {
          "output_type": "execute_result",
          "data": {
            "text/plain": [
              "0      [nikah, tahun, initapi, wna, boleh, masuk, ind...\n",
              "1               [semangat, jokowimempertahankan, negara]\n",
              "2      [jokowi, tolong, psbb, selesaikan, secepatnya,...\n",
              "3                                                [sehat]\n",
              "4      [bagaimana, mau, berjuang, suami, sudah, kerja...\n",
              "                             ...                        \n",
              "995    [sibuk, vaksinbiar, menkes, tugasnyalebih, vis...\n",
              "996                   [mudahan, tenaga, vaksin, jt, wni]\n",
              "997         [terima, kasih, bapak, presiden, semangatya]\n",
              "998    [kaltim, samarinda, hadir, salam, sehat, semog...\n",
              "999                                             [vaksin]\n",
              "Name: tweet_normalized, Length: 1000, dtype: object"
            ]
          },
          "metadata": {},
          "execution_count": 23
        }
      ]
    },
    {
      "cell_type": "markdown",
      "metadata": {
        "id": "RAeAEIJnlCYG"
      },
      "source": [
        "# **STEMMING**"
      ]
    },
    {
      "cell_type": "code",
      "metadata": {
        "id": "_7QfhyBRZhZE"
      },
      "source": [
        "from Sastrawi.Stemmer.StemmerFactory import StemmerFactory\n",
        "import swifter"
      ],
      "execution_count": 24,
      "outputs": []
    },
    {
      "cell_type": "code",
      "metadata": {
        "colab": {
          "base_uri": "https://localhost:8080/"
        },
        "id": "65hxeApnafjj",
        "outputId": "f382f498-964f-400a-93a0-5612fa978bb3"
      },
      "source": [
        "# create stemmer\n",
        "factory = StemmerFactory()\n",
        "stemmer = factory.create_stemmer()\n",
        "\n",
        "# stemmed\n",
        "def stemmed_wrapper(term):\n",
        "    return stemmer.stem(term)\n",
        "\n",
        "term_dict = {}\n",
        "\n",
        "for document in TWEET_DATA['tweet_normalized']:\n",
        "    for term in document:\n",
        "        if term not in term_dict:\n",
        "            term_dict[term] = ' '\n",
        "\n",
        "print(len(term_dict))\n",
        "print(\"------------------------\")"
      ],
      "execution_count": 27,
      "outputs": [
        {
          "output_type": "stream",
          "name": "stdout",
          "text": [
            "3507\n",
            "------------------------\n"
          ]
        }
      ]
    },
    {
      "cell_type": "code",
      "metadata": {
        "id": "ducd_s0jazLv"
      },
      "source": [
        "for term in term_dict:\n",
        "    term_dict[term] = stemmed_wrapper(term)\n",
        "    # print(term, \":\", term_dict[term])\n",
        "\n"
      ],
      "execution_count": 30,
      "outputs": []
    },
    {
      "cell_type": "code",
      "metadata": {
        "colab": {
          "base_uri": "https://localhost:8080/",
          "height": 257,
          "referenced_widgets": [
            "69f5d1d6c2614b28bdffe594114f18d0",
            "b3d45f5ed87f4b6ba82763c551477439",
            "94a86547d2654495800925c20ab320fd",
            "70575df038bf49868212643360d61e73",
            "aff4cb1c8b734965a63f6f6d4e56abf3",
            "352871b5e5ed41d8a5998ac1c0ef2204",
            "5d06dc219edf49df9057bc294926241f",
            "2e4f734a40024551ae6dc88547c7aaeb",
            "df97c47c2a53402da1e7c13319f90e0c",
            "ca5aaab3c2a24494bba00d83e2d7aa7b",
            "991a9025d47c45ac979cc2f98d93bd65"
          ]
        },
        "id": "uCF9Fg0dbA6F",
        "outputId": "cb83989a-5a70-444b-9f38-25509f97817b"
      },
      "source": [
        "# apply stemmed term to dataframe\n",
        "def get_stemmed_term(document):\n",
        "    return [term_dict[term] for term in document]\n",
        "\n",
        "\n",
        "TWEET_DATA['tweet_tokens_stemmed'] = TWEET_DATA['tweet_normalized'].swifter.apply(get_stemmed_term)\n",
        "TWEET_DATA['tweet_tokens_stemmed']"
      ],
      "execution_count": 34,
      "outputs": [
        {
          "output_type": "display_data",
          "data": {
            "application/vnd.jupyter.widget-view+json": {
              "model_id": "69f5d1d6c2614b28bdffe594114f18d0",
              "version_minor": 0,
              "version_major": 2
            },
            "text/plain": [
              "Pandas Apply:   0%|          | 0/1000 [00:00<?, ?it/s]"
            ]
          },
          "metadata": {}
        },
        {
          "output_type": "execute_result",
          "data": {
            "text/plain": [
              "0      [nikah, tahun, initapi, wna, boleh, masuk, ind...\n",
              "1               [semangat, jokowimempertahankan, negara]\n",
              "2      [jokowi, tolong, psbb, selesai, cepat, butuh, ...\n",
              "3                                                [sehat]\n",
              "4      [bagaimana, mau, juang, suami, sudah, kerja, p...\n",
              "                             ...                        \n",
              "995    [sibuk, vaksinbiar, menkes, tugasnyalebih, vis...\n",
              "996                     [mudah, tenaga, vaksin, jt, wni]\n",
              "997         [terima, kasih, bapak, presiden, semangatya]\n",
              "998    [kaltim, samarinda, hadir, salam, sehat, moga,...\n",
              "999                                             [vaksin]\n",
              "Name: tweet_tokens_stemmed, Length: 1000, dtype: object"
            ]
          },
          "metadata": {},
          "execution_count": 34
        }
      ]
    },
    {
      "cell_type": "code",
      "metadata": {
        "id": "qDMjNR5PbS_a"
      },
      "source": [
        "# Save ke CSV\n",
        "path = \"/content/drive/MyDrive/Colab Notebooks/Tugas Akhir/Output/\"\n",
        "TWEET_DATA.to_csv(path+\"Tweet_Preprocessing.csv\")"
      ],
      "execution_count": null,
      "outputs": []
    }
  ]
}
